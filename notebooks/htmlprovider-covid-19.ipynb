{
 "cells": [
  {
   "cell_type": "code",
   "execution_count": 4,
   "metadata": {},
   "outputs": [
    {
     "name": "stdout",
     "output_type": "stream",
     "text": [
      "seq\n",
      "  [(\"Albania\", Some 4/1/2021 12:00:00 AM);\n",
      "   (\"Argentina\", Some 4/1/2020 12:00:00 AM);\n",
      "   (\"Armenia\", Some 4/1/2019 12:00:00 AM);\n",
      "   (\"Australia\", Some 4/1/2022 12:00:00 AM); ...] "
     ]
    },
    {
     "data": {},
     "execution_count": 4,
     "metadata": {},
     "output_type": "execute_result"
    }
   ],
   "source": [
    "#r \"nuget:Fsharp.Data,3.3.3\"\n",
    "\n",
    "open System\n",
    "open FSharp.Data\n",
    "\n",
    "let [<Literal>] wikiUrl  = @\"https://en.wikipedia.org/wiki/COVID-19_testing#Virus_testing_statistics_by_country\"\n",
    "type Covid = HtmlProvider<wikiUrl>\n",
    "\n",
    "let main() =\n",
    "    let feed = Covid.Load(wikiUrl)\n",
    "    feed.Tables.``Virus testing statistics by country``.Rows\n",
    "    |> Seq.map (fun r -> (r.Country, r.Date) )\n",
    "    |> printf \"%A \"\n",
    "    0\n",
    "    \n",
    "main() |> ignore"
   ]
  }
 ],
 "metadata": {
  "kernelspec": {
   "display_name": ".NET (F#)",
   "language": "F#",
   "name": ".net-fsharp"
  },
  "language_info": {
   "file_extension": ".fs",
   "mimetype": "text/x-fsharp",
   "name": "C#",
   "pygments_lexer": "fsharp",
   "version": "4.5"
  }
 },
 "nbformat": 4,
 "nbformat_minor": 4
}
